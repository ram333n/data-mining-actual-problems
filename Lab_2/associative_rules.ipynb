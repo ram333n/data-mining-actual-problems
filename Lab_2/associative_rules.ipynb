{
 "cells": [
  {
   "metadata": {},
   "cell_type": "markdown",
   "source": "# Apriori",
   "id": "97af12a50cb31d61"
  },
  {
   "metadata": {},
   "cell_type": "markdown",
   "source": [
    "### Example from book\n",
    "\n",
    "![image](./images/1_apriori_dataset_example.png)"
   ],
   "id": "4f91631e1498197d"
  },
  {
   "metadata": {
    "ExecuteTime": {
     "end_time": "2025-04-19T13:06:46.710542Z",
     "start_time": "2025-04-19T13:06:46.700451Z"
    }
   },
   "cell_type": "code",
   "source": "from associative_rules.apriori import Apriori",
   "id": "9a91e93688b4b90a",
   "outputs": [],
   "execution_count": 9
  },
  {
   "metadata": {
    "ExecuteTime": {
     "end_time": "2025-04-19T13:06:46.726262Z",
     "start_time": "2025-04-19T13:06:46.721058Z"
    }
   },
   "cell_type": "code",
   "source": [
    "transactions = [\n",
    "    {'a', 'b', 'c', 'd', 'e'},\n",
    "    {'a', 'c', 'd', 'f'},\n",
    "    {'a', 'b', 'c', 'd', 'e', 'g'},\n",
    "    {'c', 'd', 'e', 'f'},\n",
    "    {'c', 'e', 'f', 'h'},\n",
    "    {'d', 'e', 'f'},\n",
    "    {'a', 'f', 'g'},\n",
    "    {'d', 'e', 'g', 'h'},\n",
    "    {'a', 'b', 'c', 'f'},\n",
    "    {'c', 'd', 'e', 'h'}\n",
    "]\n",
    "\n",
    "min_support = 0.4\n",
    "min_confidence = 0.5"
   ],
   "id": "564c2f2ddfe85eb1",
   "outputs": [],
   "execution_count": 10
  },
  {
   "metadata": {},
   "cell_type": "markdown",
   "source": [
    "### Result rules\n",
    "\n",
    "![image](./images/2_result_rules.png)"
   ],
   "id": "e9bf98593f1a86b3"
  },
  {
   "metadata": {
    "ExecuteTime": {
     "end_time": "2025-04-19T13:06:46.757289Z",
     "start_time": "2025-04-19T13:06:46.743203Z"
    }
   },
   "cell_type": "code",
   "source": [
    "apriori = Apriori(transactions, min_support, min_confidence)\n",
    "\n",
    "rules = apriori.find_rules()\n",
    "\n",
    "for antecedent, consequent, confidence in rules:\n",
    "    print(f'{set(antecedent)} => {set(consequent)}, confidence={confidence}')"
   ],
   "id": "1e2cef4b541b499a",
   "outputs": [
    {
     "name": "stdout",
     "output_type": "stream",
     "text": [
      "{'e'} => {'d'}, confidence=0.8571428571428571\n",
      "{'d'} => {'e'}, confidence=0.8571428571428571\n",
      "{'e'} => {'c'}, confidence=0.7142857142857143\n",
      "{'c'} => {'e'}, confidence=0.7142857142857143\n",
      "{'c'} => {'a'}, confidence=0.5714285714285714\n",
      "{'a'} => {'c'}, confidence=0.8\n",
      "{'d'} => {'c'}, confidence=0.7142857142857143\n",
      "{'c'} => {'d'}, confidence=0.7142857142857143\n",
      "{'f'} => {'c'}, confidence=0.6666666666666666\n",
      "{'c'} => {'f'}, confidence=0.5714285714285714\n",
      "{'e'} => {'d', 'c'}, confidence=0.5714285714285714\n",
      "{'d'} => {'e', 'c'}, confidence=0.5714285714285714\n",
      "{'c'} => {'e', 'd'}, confidence=0.5714285714285714\n",
      "{'e', 'd'} => {'c'}, confidence=0.6666666666666666\n",
      "{'e', 'c'} => {'d'}, confidence=0.8\n",
      "{'d', 'c'} => {'e'}, confidence=0.8\n"
     ]
    }
   ],
   "execution_count": 11
  },
  {
   "metadata": {},
   "cell_type": "markdown",
   "source": [
    "### Frequent itemsets\n",
    "![image](./images/3_frequent_sets.png)"
   ],
   "id": "be36aadbdd979b40"
  },
  {
   "metadata": {
    "ExecuteTime": {
     "end_time": "2025-04-19T13:06:46.803236Z",
     "start_time": "2025-04-19T13:06:46.789380Z"
    }
   },
   "cell_type": "code",
   "source": "apriori.print_frequent_itemsets()",
   "id": "665ef8545f26f3ab",
   "outputs": [
    {
     "name": "stdout",
     "output_type": "stream",
     "text": [
      "{'e'}, support: 0.7\n",
      "{'a'}, support: 0.5\n",
      "{'d'}, support: 0.7\n",
      "{'c'}, support: 0.7\n",
      "{'f'}, support: 0.6\n",
      "{'e', 'd'}, support: 0.6\n",
      "{'e', 'c'}, support: 0.5\n",
      "{'c', 'a'}, support: 0.4\n",
      "{'d', 'c'}, support: 0.5\n",
      "{'f', 'c'}, support: 0.4\n",
      "{'e', 'd', 'c'}, support: 0.4\n"
     ]
    }
   ],
   "execution_count": 12
  },
  {
   "metadata": {},
   "cell_type": "markdown",
   "source": "### Another example",
   "id": "2cf4d0db625f0525"
  },
  {
   "metadata": {
    "ExecuteTime": {
     "end_time": "2025-04-19T13:06:46.833649Z",
     "start_time": "2025-04-19T13:06:46.819522Z"
    }
   },
   "cell_type": "code",
   "source": [
    "transactions = [\n",
    "    {'a', 'b', 'c', 'd'},\n",
    "    {'b', 'c', 'd'},\n",
    "    {'a', 'e', 'f', 'g', 'h'},\n",
    "    {'b', 'c', 'd', 'e', 'g', 'j'},\n",
    "    {'b', 'c', 'd', 'e', 'f'},\n",
    "    {'a', 'f', 'g'},\n",
    "    {'a', 'i', 'j'},\n",
    "    {'a', 'b', 'e', 'h'},\n",
    "    {'f', 'g', 'h', 'i', 'j'},\n",
    "    {'e', 'f', 'h'}\n",
    "]\n",
    "\n",
    "min_support = 0.4\n",
    "min_confidence = 0.7"
   ],
   "id": "4d27c30fdfc4ad",
   "outputs": [],
   "execution_count": 13
  },
  {
   "metadata": {
    "ExecuteTime": {
     "end_time": "2025-04-19T13:06:46.849510Z",
     "start_time": "2025-04-19T13:06:46.842026Z"
    }
   },
   "cell_type": "code",
   "source": [
    "apriori = Apriori(transactions, min_support, min_confidence)\n",
    "\n",
    "rules = apriori.find_rules()\n",
    "\n",
    "for antecedent, consequent, confidence in rules:\n",
    "    print(f'{set(antecedent)} => {set(consequent)}, confidence={confidence}')"
   ],
   "id": "54ecc5d852114cfc",
   "outputs": [
    {
     "name": "stdout",
     "output_type": "stream",
     "text": [
      "{'d'} => {'b'}, confidence=1.0\n",
      "{'b'} => {'d'}, confidence=0.8\n",
      "{'d'} => {'c'}, confidence=1.0\n",
      "{'c'} => {'d'}, confidence=1.0\n",
      "{'b'} => {'c'}, confidence=0.8\n",
      "{'c'} => {'b'}, confidence=1.0\n",
      "{'d'} => {'b', 'c'}, confidence=1.0\n",
      "{'b'} => {'d', 'c'}, confidence=0.8\n",
      "{'c'} => {'d', 'b'}, confidence=1.0\n",
      "{'d', 'b'} => {'c'}, confidence=1.0\n",
      "{'d', 'c'} => {'b'}, confidence=1.0\n",
      "{'b', 'c'} => {'d'}, confidence=1.0\n"
     ]
    }
   ],
   "execution_count": 14
  },
  {
   "metadata": {
    "ExecuteTime": {
     "end_time": "2025-04-19T13:06:46.926369Z",
     "start_time": "2025-04-19T13:06:46.919203Z"
    }
   },
   "cell_type": "code",
   "source": "apriori.print_frequent_itemsets()",
   "id": "ba5ae9bc16e396da",
   "outputs": [
    {
     "name": "stdout",
     "output_type": "stream",
     "text": [
      "{'d'}, support: 0.4\n",
      "{'b'}, support: 0.5\n",
      "{'a'}, support: 0.5\n",
      "{'c'}, support: 0.4\n",
      "{'e'}, support: 0.5\n",
      "{'f'}, support: 0.5\n",
      "{'g'}, support: 0.4\n",
      "{'h'}, support: 0.4\n",
      "{'d', 'b'}, support: 0.4\n",
      "{'d', 'c'}, support: 0.4\n",
      "{'b', 'c'}, support: 0.4\n",
      "{'d', 'b', 'c'}, support: 0.4\n"
     ]
    }
   ],
   "execution_count": 15
  }
 ],
 "metadata": {
  "kernelspec": {
   "display_name": "Python 3",
   "language": "python",
   "name": "python3"
  },
  "language_info": {
   "codemirror_mode": {
    "name": "ipython",
    "version": 2
   },
   "file_extension": ".py",
   "mimetype": "text/x-python",
   "name": "python",
   "nbconvert_exporter": "python",
   "pygments_lexer": "ipython2",
   "version": "2.7.6"
  }
 },
 "nbformat": 4,
 "nbformat_minor": 5
}
