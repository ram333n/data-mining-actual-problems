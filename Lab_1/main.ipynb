{
 "cells": [
  {
   "metadata": {},
   "cell_type": "markdown",
   "source": "# Lab 1",
   "id": "df9ac255f1aebe27"
  },
  {
   "metadata": {},
   "cell_type": "markdown",
   "source": "#### Used datasets",
   "id": "9d7563cdc2782522"
  },
  {
   "metadata": {},
   "cell_type": "markdown",
   "source": "##### 1. Dataset, used in book examples",
   "id": "b7893832b5565092"
  },
  {
   "metadata": {
    "ExecuteTime": {
     "end_time": "2025-02-24T21:47:14.840216Z",
     "start_time": "2025-02-24T21:47:14.828105Z"
    }
   },
   "cell_type": "code",
   "source": [
    "import numpy as np\n",
    "import pandas as pd\n",
    "\n",
    "from classifiers.decision_tree import DecisionTreeClassifier\n",
    "from classifiers.knn import KNNClassifier\n",
    "from classifiers.naive_bayes import NaiveBayesClassifier\n",
    "from classifiers.one_rule import OneRuleClassifier"
   ],
   "id": "eb2077212308f2f",
   "outputs": [],
   "execution_count": 18
  },
  {
   "metadata": {
    "ExecuteTime": {
     "end_time": "2025-02-24T21:47:14.870467Z",
     "start_time": "2025-02-24T21:47:14.853339Z"
    }
   },
   "cell_type": "code",
   "source": [
    "df_0 = pd.read_csv('./data/input_0.csv')\n",
    "df_0"
   ],
   "id": "12efb4198a684f85",
   "outputs": [
    {
     "data": {
      "text/plain": [
       "   f1  f2  f3  f4  target\n",
       "0   0   0   1   0       0\n",
       "1   1   0   0   1       1\n",
       "2   2   0   1   0       1\n",
       "3   0   1   0   0       1\n",
       "4   0   1   1   0       1\n",
       "5   0   1   1   1       0\n",
       "6   1   0   0   1       0\n",
       "7   2   0   0   0       1\n",
       "8   2   1   1   0       1\n",
       "9   0   1   1   1       0"
      ],
      "text/html": [
       "<div>\n",
       "<style scoped>\n",
       "    .dataframe tbody tr th:only-of-type {\n",
       "        vertical-align: middle;\n",
       "    }\n",
       "\n",
       "    .dataframe tbody tr th {\n",
       "        vertical-align: top;\n",
       "    }\n",
       "\n",
       "    .dataframe thead th {\n",
       "        text-align: right;\n",
       "    }\n",
       "</style>\n",
       "<table border=\"1\" class=\"dataframe\">\n",
       "  <thead>\n",
       "    <tr style=\"text-align: right;\">\n",
       "      <th></th>\n",
       "      <th>f1</th>\n",
       "      <th>f2</th>\n",
       "      <th>f3</th>\n",
       "      <th>f4</th>\n",
       "      <th>target</th>\n",
       "    </tr>\n",
       "  </thead>\n",
       "  <tbody>\n",
       "    <tr>\n",
       "      <th>0</th>\n",
       "      <td>0</td>\n",
       "      <td>0</td>\n",
       "      <td>1</td>\n",
       "      <td>0</td>\n",
       "      <td>0</td>\n",
       "    </tr>\n",
       "    <tr>\n",
       "      <th>1</th>\n",
       "      <td>1</td>\n",
       "      <td>0</td>\n",
       "      <td>0</td>\n",
       "      <td>1</td>\n",
       "      <td>1</td>\n",
       "    </tr>\n",
       "    <tr>\n",
       "      <th>2</th>\n",
       "      <td>2</td>\n",
       "      <td>0</td>\n",
       "      <td>1</td>\n",
       "      <td>0</td>\n",
       "      <td>1</td>\n",
       "    </tr>\n",
       "    <tr>\n",
       "      <th>3</th>\n",
       "      <td>0</td>\n",
       "      <td>1</td>\n",
       "      <td>0</td>\n",
       "      <td>0</td>\n",
       "      <td>1</td>\n",
       "    </tr>\n",
       "    <tr>\n",
       "      <th>4</th>\n",
       "      <td>0</td>\n",
       "      <td>1</td>\n",
       "      <td>1</td>\n",
       "      <td>0</td>\n",
       "      <td>1</td>\n",
       "    </tr>\n",
       "    <tr>\n",
       "      <th>5</th>\n",
       "      <td>0</td>\n",
       "      <td>1</td>\n",
       "      <td>1</td>\n",
       "      <td>1</td>\n",
       "      <td>0</td>\n",
       "    </tr>\n",
       "    <tr>\n",
       "      <th>6</th>\n",
       "      <td>1</td>\n",
       "      <td>0</td>\n",
       "      <td>0</td>\n",
       "      <td>1</td>\n",
       "      <td>0</td>\n",
       "    </tr>\n",
       "    <tr>\n",
       "      <th>7</th>\n",
       "      <td>2</td>\n",
       "      <td>0</td>\n",
       "      <td>0</td>\n",
       "      <td>0</td>\n",
       "      <td>1</td>\n",
       "    </tr>\n",
       "    <tr>\n",
       "      <th>8</th>\n",
       "      <td>2</td>\n",
       "      <td>1</td>\n",
       "      <td>1</td>\n",
       "      <td>0</td>\n",
       "      <td>1</td>\n",
       "    </tr>\n",
       "    <tr>\n",
       "      <th>9</th>\n",
       "      <td>0</td>\n",
       "      <td>1</td>\n",
       "      <td>1</td>\n",
       "      <td>1</td>\n",
       "      <td>0</td>\n",
       "    </tr>\n",
       "  </tbody>\n",
       "</table>\n",
       "</div>"
      ]
     },
     "execution_count": 19,
     "metadata": {},
     "output_type": "execute_result"
    }
   ],
   "execution_count": 19
  },
  {
   "metadata": {},
   "cell_type": "markdown",
   "source": "##### 2. Dataset from exercises",
   "id": "5bdeee6abba5217b"
  },
  {
   "metadata": {
    "ExecuteTime": {
     "end_time": "2025-02-24T21:47:14.932335Z",
     "start_time": "2025-02-24T21:47:14.918321Z"
    }
   },
   "cell_type": "code",
   "source": [
    "df_1 = pd.read_csv('./data/input_1.csv')\n",
    "df_1"
   ],
   "id": "5630805a0ab5ffc8",
   "outputs": [
    {
     "data": {
      "text/plain": [
       "   f1  f2  f3  target\n",
       "0   0   1   2       1\n",
       "1   1   0   1       1\n",
       "2   0   1   1       0\n",
       "3   0   0   1       1\n",
       "4   0   0   2       1\n",
       "5   1   1   2       0\n",
       "6   1   0   2       1\n",
       "7   1   0   0       0\n",
       "8   0   0   0       0\n",
       "9   0   0   1       1"
      ],
      "text/html": [
       "<div>\n",
       "<style scoped>\n",
       "    .dataframe tbody tr th:only-of-type {\n",
       "        vertical-align: middle;\n",
       "    }\n",
       "\n",
       "    .dataframe tbody tr th {\n",
       "        vertical-align: top;\n",
       "    }\n",
       "\n",
       "    .dataframe thead th {\n",
       "        text-align: right;\n",
       "    }\n",
       "</style>\n",
       "<table border=\"1\" class=\"dataframe\">\n",
       "  <thead>\n",
       "    <tr style=\"text-align: right;\">\n",
       "      <th></th>\n",
       "      <th>f1</th>\n",
       "      <th>f2</th>\n",
       "      <th>f3</th>\n",
       "      <th>target</th>\n",
       "    </tr>\n",
       "  </thead>\n",
       "  <tbody>\n",
       "    <tr>\n",
       "      <th>0</th>\n",
       "      <td>0</td>\n",
       "      <td>1</td>\n",
       "      <td>2</td>\n",
       "      <td>1</td>\n",
       "    </tr>\n",
       "    <tr>\n",
       "      <th>1</th>\n",
       "      <td>1</td>\n",
       "      <td>0</td>\n",
       "      <td>1</td>\n",
       "      <td>1</td>\n",
       "    </tr>\n",
       "    <tr>\n",
       "      <th>2</th>\n",
       "      <td>0</td>\n",
       "      <td>1</td>\n",
       "      <td>1</td>\n",
       "      <td>0</td>\n",
       "    </tr>\n",
       "    <tr>\n",
       "      <th>3</th>\n",
       "      <td>0</td>\n",
       "      <td>0</td>\n",
       "      <td>1</td>\n",
       "      <td>1</td>\n",
       "    </tr>\n",
       "    <tr>\n",
       "      <th>4</th>\n",
       "      <td>0</td>\n",
       "      <td>0</td>\n",
       "      <td>2</td>\n",
       "      <td>1</td>\n",
       "    </tr>\n",
       "    <tr>\n",
       "      <th>5</th>\n",
       "      <td>1</td>\n",
       "      <td>1</td>\n",
       "      <td>2</td>\n",
       "      <td>0</td>\n",
       "    </tr>\n",
       "    <tr>\n",
       "      <th>6</th>\n",
       "      <td>1</td>\n",
       "      <td>0</td>\n",
       "      <td>2</td>\n",
       "      <td>1</td>\n",
       "    </tr>\n",
       "    <tr>\n",
       "      <th>7</th>\n",
       "      <td>1</td>\n",
       "      <td>0</td>\n",
       "      <td>0</td>\n",
       "      <td>0</td>\n",
       "    </tr>\n",
       "    <tr>\n",
       "      <th>8</th>\n",
       "      <td>0</td>\n",
       "      <td>0</td>\n",
       "      <td>0</td>\n",
       "      <td>0</td>\n",
       "    </tr>\n",
       "    <tr>\n",
       "      <th>9</th>\n",
       "      <td>0</td>\n",
       "      <td>0</td>\n",
       "      <td>1</td>\n",
       "      <td>1</td>\n",
       "    </tr>\n",
       "  </tbody>\n",
       "</table>\n",
       "</div>"
      ]
     },
     "execution_count": 20,
     "metadata": {},
     "output_type": "execute_result"
    }
   ],
   "execution_count": 20
  },
  {
   "metadata": {},
   "cell_type": "markdown",
   "source": "## 1. One-Rule classifier",
   "id": "fffa9c424505da00"
  },
  {
   "metadata": {
    "ExecuteTime": {
     "end_time": "2025-02-24T21:47:15.055009Z",
     "start_time": "2025-02-24T21:47:15.040926Z"
    }
   },
   "cell_type": "code",
   "source": [
    "def read_dataset(filename):\n",
    "    df = pd.read_csv(filename)\n",
    "    f_names = list(filter(lambda c: c[0] == 'f', df.columns))\n",
    "\n",
    "    return df[f_names].to_numpy(), df['target'].to_numpy()"
   ],
   "id": "8e2235cedf8cd87d",
   "outputs": [],
   "execution_count": 21
  },
  {
   "metadata": {
    "ExecuteTime": {
     "end_time": "2025-02-24T21:47:15.133003Z",
     "start_time": "2025-02-24T21:47:15.119802Z"
    }
   },
   "cell_type": "code",
   "source": [
    "X_first, y_first = read_dataset('./data/input_0.csv')\n",
    "X_second, y_second = read_dataset('./data/input_1.csv')"
   ],
   "id": "3279711539a12f6b",
   "outputs": [],
   "execution_count": 22
  },
  {
   "metadata": {
    "ExecuteTime": {
     "end_time": "2025-02-24T21:47:15.208861Z",
     "start_time": "2025-02-24T21:47:15.194860Z"
    }
   },
   "cell_type": "code",
   "source": [
    "X_test_first = np.array([\n",
    "    [2, 1, 1, 1]\n",
    "])\n",
    "\n",
    "X_test_second = np.array([\n",
    "    [1, 1, 1]\n",
    "])"
   ],
   "id": "2f49b390a2fee3c6",
   "outputs": [],
   "execution_count": 23
  },
  {
   "metadata": {},
   "cell_type": "markdown",
   "source": "Best feature from example:",
   "id": "6adde12adaa6f374"
  },
  {
   "metadata": {},
   "cell_type": "markdown",
   "source": "![one-rule-best-feature](./images/1_one_rule_example.png)",
   "id": "a4bc837db063682f"
  },
  {
   "metadata": {
    "ExecuteTime": {
     "end_time": "2025-02-24T21:47:15.223967Z",
     "start_time": "2025-02-24T21:47:15.219967Z"
    }
   },
   "cell_type": "code",
   "source": [
    "one_rule_classifier = OneRuleClassifier(verbose=True)\n",
    "one_rule_classifier.fit(X_first, y_first)\n",
    "print(f'Prediction result: {one_rule_classifier.predict(X_test_first)}')"
   ],
   "id": "9117ed5e8522a80e",
   "outputs": [
    {
     "name": "stdout",
     "output_type": "stream",
     "text": [
      "Best feature idx: 3, error rate: 0.2\n",
      "Prediction result: [0]\n"
     ]
    }
   ],
   "execution_count": 24
  },
  {
   "metadata": {
    "ExecuteTime": {
     "end_time": "2025-02-24T21:47:15.269706Z",
     "start_time": "2025-02-24T21:47:15.256477Z"
    }
   },
   "cell_type": "code",
   "source": [
    "one_rule_classifier = OneRuleClassifier(verbose=True)\n",
    "one_rule_classifier.fit(X_second, y_second)\n",
    "print(f'Prediction result: {one_rule_classifier.predict(X_test_second)}')"
   ],
   "id": "1238fe5608ce61c7",
   "outputs": [
    {
     "name": "stdout",
     "output_type": "stream",
     "text": [
      "Best feature idx: 2, error rate: 0.2\n",
      "Prediction result: [1]\n"
     ]
    }
   ],
   "execution_count": 25
  },
  {
   "metadata": {},
   "cell_type": "markdown",
   "source": "## 2. Naive Bayes classifier",
   "id": "6b98767141fdb5b0"
  },
  {
   "metadata": {},
   "cell_type": "markdown",
   "source": "Probabilities from example",
   "id": "dd5dfd4558bf8238"
  },
  {
   "metadata": {},
   "cell_type": "markdown",
   "source": "![naive-bayes-probs](./images/2_naive_bayes_example.png)",
   "id": "5be4b633221261c"
  },
  {
   "metadata": {
    "ExecuteTime": {
     "end_time": "2025-02-24T21:47:15.300058Z",
     "start_time": "2025-02-24T21:47:15.292063Z"
    }
   },
   "cell_type": "code",
   "source": [
    "naive_bayes_classifier = NaiveBayesClassifier(laplace_smoothing_factor=0.1, verbose=True)\n",
    "naive_bayes_classifier.fit(X_first, y_first)"
   ],
   "id": "f031f2cc5263a1ba",
   "outputs": [
    {
     "name": "stdout",
     "output_type": "stream",
     "text": [
      "Classes probabilities:\n",
      "P(c0)=0.4\n",
      "P(c1)=0.6\n",
      "\n",
      "Features probabilities:\n",
      "P(f0=0|c=0)=0.7209302325581396\n",
      "P(f0=0|c=1)=0.33333333333333337\n",
      "P(f0=1|c=0)=0.2558139534883721\n",
      "P(f0=1|c=1)=0.17460317460317462\n",
      "P(f0=2|c=0)=0.023255813953488375\n",
      "P(f0=2|c=1)=0.4920634920634921\n",
      "P(f1=0|c=0)=0.5\n",
      "P(f1=0|c=1)=0.5\n",
      "P(f1=1|c=0)=0.5\n",
      "P(f1=1|c=1)=0.5\n",
      "P(f2=0|c=0)=0.2619047619047619\n",
      "P(f2=0|c=1)=0.5\n",
      "P(f2=1|c=0)=0.7380952380952381\n",
      "P(f2=1|c=1)=0.5\n",
      "P(f3=0|c=0)=0.2619047619047619\n",
      "P(f3=0|c=1)=0.8225806451612903\n",
      "P(f3=1|c=0)=0.7380952380952381\n",
      "P(f3=1|c=1)=0.1774193548387097\n",
      "\n"
     ]
    }
   ],
   "execution_count": 26
  },
  {
   "metadata": {
    "ExecuteTime": {
     "end_time": "2025-02-24T21:47:15.330615Z",
     "start_time": "2025-02-24T21:47:15.319498Z"
    }
   },
   "cell_type": "code",
   "source": "print(f'Prediction result: {naive_bayes_classifier.predict(X_test_second)}')",
   "id": "e2bb83b678168729",
   "outputs": [
    {
     "name": "stdout",
     "output_type": "stream",
     "text": [
      "Predicted probability log-value: -3.2764251691275144\n",
      "Prediction result: [np.int64(0)]\n"
     ]
    }
   ],
   "execution_count": 27
  },
  {
   "metadata": {
    "ExecuteTime": {
     "end_time": "2025-02-24T21:47:15.361934Z",
     "start_time": "2025-02-24T21:47:15.346768Z"
    }
   },
   "cell_type": "code",
   "source": [
    "naive_bayes_classifier = NaiveBayesClassifier(laplace_smoothing_factor=0.1)\n",
    "naive_bayes_classifier.fit(X_second, y_second)\n",
    "print(f'Prediction result: {naive_bayes_classifier.predict(X_test_second)}')"
   ],
   "id": "90f250e785cc8f41",
   "outputs": [
    {
     "name": "stdout",
     "output_type": "stream",
     "text": [
      "Prediction result: [np.int64(0)]\n"
     ]
    }
   ],
   "execution_count": 28
  },
  {
   "metadata": {},
   "cell_type": "markdown",
   "source": "## 3. Decision tree classifier",
   "id": "382a793579b0c25e"
  },
  {
   "metadata": {},
   "cell_type": "markdown",
   "source": "Tree from book",
   "id": "3124d7c27455687e"
  },
  {
   "metadata": {},
   "cell_type": "markdown",
   "source": "![decision-tree](./images/3_decision_tree_example.png)",
   "id": "f8bc03e8364339a5"
  },
  {
   "metadata": {
    "ExecuteTime": {
     "end_time": "2025-02-24T21:47:15.392290Z",
     "start_time": "2025-02-24T21:47:15.378073Z"
    }
   },
   "cell_type": "code",
   "source": [
    "decision_tree_classifier = DecisionTreeClassifier()\n",
    "decision_tree_classifier.fit(X_first, y_first)\n",
    "decision_tree_classifier.print()"
   ],
   "id": "a4c516789d3ef93b",
   "outputs": [
    {
     "name": "stdout",
     "output_type": "stream",
     "text": [
      "Feature: 0\n",
      "  0 -> 0\n",
      "    Feature: 3\n",
      "      3 -> 0\n",
      "        Feature: 1\n",
      "          1 -> 0\n",
      "            Leaf(0)\n",
      "          1 -> 1\n",
      "            Leaf(1)\n",
      "      3 -> 1\n",
      "        Leaf(0)\n",
      "  0 -> 1\n",
      "    Feature: 1\n",
      "      1 -> 0\n",
      "        Feature: 2\n",
      "          2 -> 0\n",
      "            Feature: 3\n",
      "              3 -> 0\n",
      "              3 -> 1\n",
      "                Leaf(1)\n",
      "          2 -> 1\n",
      "      1 -> 1\n",
      "  0 -> 2\n",
      "    Leaf(1)\n"
     ]
    }
   ],
   "execution_count": 29
  },
  {
   "metadata": {
    "ExecuteTime": {
     "end_time": "2025-02-24T21:47:15.422961Z",
     "start_time": "2025-02-24T21:47:15.408636Z"
    }
   },
   "cell_type": "code",
   "source": "print(f'Prediction result: {decision_tree_classifier.predict(X_test_first)}')",
   "id": "92839589c385abae",
   "outputs": [
    {
     "name": "stdout",
     "output_type": "stream",
     "text": [
      "Prediction result: [np.int64(1)]\n"
     ]
    }
   ],
   "execution_count": 30
  },
  {
   "metadata": {
    "ExecuteTime": {
     "end_time": "2025-02-24T21:47:15.453566Z",
     "start_time": "2025-02-24T21:47:15.439466Z"
    }
   },
   "cell_type": "code",
   "source": [
    "decision_tree_classifier = DecisionTreeClassifier()\n",
    "decision_tree_classifier.fit(X_second, y_second)\n",
    "decision_tree_classifier.print()"
   ],
   "id": "95c490c2178d2962",
   "outputs": [
    {
     "name": "stdout",
     "output_type": "stream",
     "text": [
      "Feature: 2\n",
      "  2 -> 0\n",
      "    Leaf(0)\n",
      "  2 -> 1\n",
      "    Feature: 1\n",
      "      1 -> 0\n",
      "        Leaf(1)\n",
      "      1 -> 1\n",
      "        Leaf(0)\n",
      "  2 -> 2\n",
      "    Feature: 0\n",
      "      0 -> 0\n",
      "        Leaf(1)\n",
      "      0 -> 1\n",
      "        Feature: 1\n",
      "          1 -> 0\n",
      "            Leaf(1)\n",
      "          1 -> 1\n",
      "            Leaf(0)\n"
     ]
    }
   ],
   "execution_count": 31
  },
  {
   "metadata": {
    "ExecuteTime": {
     "end_time": "2025-02-24T21:47:15.485022Z",
     "start_time": "2025-02-24T21:47:15.469898Z"
    }
   },
   "cell_type": "code",
   "source": "print(f'Prediction result: {decision_tree_classifier.predict(X_test_first)}')",
   "id": "3a136a4622c7716f",
   "outputs": [
    {
     "name": "stdout",
     "output_type": "stream",
     "text": [
      "Prediction result: [np.int64(0)]\n"
     ]
    }
   ],
   "execution_count": 32
  },
  {
   "metadata": {},
   "cell_type": "markdown",
   "source": "## 4. KNN classifier",
   "id": "7899998c3d501784"
  },
  {
   "metadata": {},
   "cell_type": "markdown",
   "source": "Distances from book:",
   "id": "b46b5898ceb6033a"
  },
  {
   "metadata": {},
   "cell_type": "markdown",
   "source": "![knn](./images/4_knn_example.png)",
   "id": "2b2c47effc59fad9"
  },
  {
   "metadata": {
    "ExecuteTime": {
     "end_time": "2025-02-24T21:47:15.515316Z",
     "start_time": "2025-02-24T21:47:15.501224Z"
    }
   },
   "cell_type": "code",
   "source": [
    "knn_classifier = KNNClassifier(k=3, weighted_voting=True, verbose=True)\n",
    "knn_classifier.fit(X_first, y_first)\n",
    "knn_classifier.predict(X_test_first)"
   ],
   "id": "a845bff3b84523a5",
   "outputs": [
    {
     "name": "stdout",
     "output_type": "stream",
     "text": [
      "K-nearest-neighbors rows indices: [8 2 6]\n",
      "Best vote: 1.5\n"
     ]
    },
    {
     "data": {
      "text/plain": [
       "array([1])"
      ]
     },
     "execution_count": 33,
     "metadata": {},
     "output_type": "execute_result"
    }
   ],
   "execution_count": 33
  },
  {
   "metadata": {
    "ExecuteTime": {
     "end_time": "2025-02-24T21:47:15.545539Z",
     "start_time": "2025-02-24T21:47:15.531438Z"
    }
   },
   "cell_type": "code",
   "source": [
    "knn_classifier = KNNClassifier(k=3, weighted_voting=True)\n",
    "knn_classifier.fit(X_second, y_second)\n",
    "knn_classifier.predict(X_test_second)"
   ],
   "id": "47ae02a1554acf00",
   "outputs": [
    {
     "data": {
      "text/plain": [
       "array([0])"
      ]
     },
     "execution_count": 34,
     "metadata": {},
     "output_type": "execute_result"
    }
   ],
   "execution_count": 34
  },
  {
   "metadata": {
    "ExecuteTime": {
     "end_time": "2025-02-24T21:47:15.576132Z",
     "start_time": "2025-02-24T21:47:15.562037Z"
    }
   },
   "cell_type": "code",
   "source": "",
   "id": "885a14ac6385daf8",
   "outputs": [],
   "execution_count": null
  }
 ],
 "metadata": {
  "kernelspec": {
   "display_name": "Python 3",
   "language": "python",
   "name": "python3"
  },
  "language_info": {
   "codemirror_mode": {
    "name": "ipython",
    "version": 2
   },
   "file_extension": ".py",
   "mimetype": "text/x-python",
   "name": "python",
   "nbconvert_exporter": "python",
   "pygments_lexer": "ipython2",
   "version": "2.7.6"
  }
 },
 "nbformat": 4,
 "nbformat_minor": 5
}
